{
 "cells": [
  {
   "cell_type": "code",
   "execution_count": 308,
   "metadata": {},
   "outputs": [],
   "source": [
    "import pandas as pd\n",
    "import numpy as np\n",
    "import matplotlib.pyplot as plt\n",
    "import matplotlib.patches as patches"
   ]
  },
  {
   "cell_type": "markdown",
   "metadata": {},
   "source": [
    "# Data Acquisition"
   ]
  },
  {
   "cell_type": "markdown",
   "metadata": {},
   "source": [
    "Steps followed to load the data\n",
    "1) I created a folder yelp_Dataset in the working directory.\n",
    "2) I downloaded the yelp dataset by clicking the 'download dataset' option on the webpage https://www.yelp.com/dataset\n",
    "3) Unpacked the review and business .tar files using terminal command : tar xopf filename.tar\n",
    "4) I moved yelp_academic_dataset_review.json and yelp_academic_dataset_business.json in the yelp_dataset folder \n"
   ]
  },
  {
   "cell_type": "code",
   "execution_count": 44,
   "metadata": {},
   "outputs": [
    {
     "data": {
      "text/plain": [
       "Index(['review_id', 'user_id', 'business_id', 'stars', 'useful', 'funny',\n",
       "       'cool', 'text', 'date'],\n",
       "      dtype='object')"
      ]
     },
     "execution_count": 44,
     "metadata": {},
     "output_type": "execute_result"
    }
   ],
   "source": [
    "#Please first use the steps above to download the data from the link provided\n",
    "review_path = 'yelp_dataset/yelp_academic_dataset_review.json'\n",
    "dfr_all = pd.read_json(review_path, lines=True)\n",
    "dfr_all.columns\n"
   ]
  },
  {
   "cell_type": "code",
   "execution_count": 45,
   "metadata": {},
   "outputs": [
    {
     "data": {
      "text/plain": [
       "Index(['business_id', 'name', 'address', 'city', 'state', 'postal_code',\n",
       "       'latitude', 'longitude', 'stars', 'review_count', 'is_open',\n",
       "       'attributes', 'categories', 'hours'],\n",
       "      dtype='object')"
      ]
     },
     "execution_count": 45,
     "metadata": {},
     "output_type": "execute_result"
    }
   ],
   "source": [
    "business_path = 'yelp_dataset/yelp_academic_dataset_business.json'\n",
    "dfb_all = pd.read_json(business_path, lines=True)\n",
    "dfb_all.columns"
   ]
  },
  {
   "cell_type": "markdown",
   "metadata": {},
   "source": [
    "# The Project and its Justification "
   ]
  },
  {
   "cell_type": "markdown",
   "metadata": {},
   "source": [
    "Whenever we are at a new place or simply want to try out new cuisine, Yelp offers a great way to decide which restaurant to go to for a meal. Two important criteria that I usually consider in picking up the restaurant are 1) Number of reviews on that restaurant and 2) its Star Rating. \n",
    "\n",
    "In cases of doubt, I, like many others, would prefer a restaurant with a decent star rating (4.5) having lots of reviews (>200) over a restaurant with exceptionally high star-rating (5.0) but having less number of reviews (<100). In other words, no of reviews play an upper hand in our pick of the restaurant. However, the caveat is that the no of reviews a restaurant gets highly depends on its location in the city. As an example, consider a restaurant in a more popular location (popularity of the location could be due to many reasons - 1) is more touristy, 2) has large no of restaurants in general), it will get more customers than a restaurant in one of the suburbs close to the city outskirts and is therefore more likely to have higher number of reviews on Yelp. \n",
    "\n",
    "For my project, I am introducing a way of tweaking the Yelp's no. of reviews and star-rating system. I am using the total number of restaurants in every zipcode(postal_code feature in the dataset) as an indicator for the frequency of customers in those restaurants. I would give less weight to a restaurant if it is in a location already crowded with lots of other restaurants simply because it attracts the most crowd due its location. Thus, the end result will be a more accurate representation of the #of reviews and star-rating of a given restaurant. \n",
    "\n",
    "The location based #ofreviews and star-rating will allow the users to make a more informed choice if they are willing to explore the city for a great meal. "
   ]
  },
  {
   "cell_type": "code",
   "execution_count": 248,
   "metadata": {},
   "outputs": [
    {
     "name": "stdout",
     "output_type": "stream",
     "text": [
      "total no of restaurant reviews on yelp: 3363401\n"
     ]
    },
    {
     "data": {
      "text/html": [
       "<div>\n",
       "<style scoped>\n",
       "    .dataframe tbody tr th:only-of-type {\n",
       "        vertical-align: middle;\n",
       "    }\n",
       "\n",
       "    .dataframe tbody tr th {\n",
       "        vertical-align: top;\n",
       "    }\n",
       "\n",
       "    .dataframe thead tr th {\n",
       "        text-align: left;\n",
       "    }\n",
       "\n",
       "    .dataframe thead tr:last-of-type th {\n",
       "        text-align: right;\n",
       "    }\n",
       "</style>\n",
       "<table border=\"1\" class=\"dataframe\">\n",
       "  <thead>\n",
       "    <tr>\n",
       "      <th></th>\n",
       "      <th>business_id</th>\n",
       "      <th>review_count</th>\n",
       "    </tr>\n",
       "    <tr>\n",
       "      <th></th>\n",
       "      <th>count</th>\n",
       "      <th>sum</th>\n",
       "    </tr>\n",
       "    <tr>\n",
       "      <th>city</th>\n",
       "      <th></th>\n",
       "      <th></th>\n",
       "    </tr>\n",
       "  </thead>\n",
       "  <tbody>\n",
       "    <tr>\n",
       "      <td>Las Vegas</td>\n",
       "      <td>4374</td>\n",
       "      <td>1212683</td>\n",
       "    </tr>\n",
       "    <tr>\n",
       "      <td>Phoenix</td>\n",
       "      <td>2763</td>\n",
       "      <td>416197</td>\n",
       "    </tr>\n",
       "    <tr>\n",
       "      <td>Scottsdale</td>\n",
       "      <td>947</td>\n",
       "      <td>214816</td>\n",
       "    </tr>\n",
       "    <tr>\n",
       "      <td>Charlotte</td>\n",
       "      <td>2026</td>\n",
       "      <td>212597</td>\n",
       "    </tr>\n",
       "    <tr>\n",
       "      <td>Pittsburgh</td>\n",
       "      <td>1744</td>\n",
       "      <td>157512</td>\n",
       "    </tr>\n",
       "    <tr>\n",
       "      <td>Tempe</td>\n",
       "      <td>658</td>\n",
       "      <td>114190</td>\n",
       "    </tr>\n",
       "    <tr>\n",
       "      <td>Henderson</td>\n",
       "      <td>599</td>\n",
       "      <td>113537</td>\n",
       "    </tr>\n",
       "    <tr>\n",
       "      <td>Mesa</td>\n",
       "      <td>842</td>\n",
       "      <td>91105</td>\n",
       "    </tr>\n",
       "    <tr>\n",
       "      <td>Chandler</td>\n",
       "      <td>566</td>\n",
       "      <td>83721</td>\n",
       "    </tr>\n",
       "    <tr>\n",
       "      <td>Cleveland</td>\n",
       "      <td>1073</td>\n",
       "      <td>79389</td>\n",
       "    </tr>\n",
       "  </tbody>\n",
       "</table>\n",
       "</div>"
      ],
      "text/plain": [
       "           business_id review_count\n",
       "                 count          sum\n",
       "city                               \n",
       "Las Vegas         4374      1212683\n",
       "Phoenix           2763       416197\n",
       "Scottsdale         947       214816\n",
       "Charlotte         2026       212597\n",
       "Pittsburgh        1744       157512\n",
       "Tempe              658       114190\n",
       "Henderson          599       113537\n",
       "Mesa               842        91105\n",
       "Chandler           566        83721\n",
       "Cleveland         1073        79389"
      ]
     },
     "execution_count": 248,
     "metadata": {},
     "output_type": "execute_result"
    }
   ],
   "source": [
    "#Extracting data from business.json of all the restaurants in the US that are open.\n",
    "#I also added the condition that the postal code should contain digits only. Otherwise dataframe included some businesses in toronto having a state code 'OH' (although it should be 'ON', probably a mis-entry of data)\n",
    "\n",
    "us_states = [\"AL\", \"AK\", \"AZ\", \"AR\", \"CA\", \"CO\", \"CT\", \"DC\", \"DE\", \"FL\", \"GA\", \"HI\", \"ID\", \"IL\", \"IN\", \"IA\", \"KS\", \"KY\", \"LA\", \"ME\", \"MD\", \"MA\", \"MI\", \"MN\", \"MS\", \"MO\", \"MT\", \"NE\", \"NV\", \"NH\", \"NJ\", \"NM\", \"NY\", \"NC\", \"ND\", \"OH\", \"OK\", \"OR\", \"PA\", \"RI\", \"SC\", \"SD\", \"TN\", \"TX\", \"UT\", \"VT\", \"VA\", \"WA\", \"WV\", \"WI\", \"WY\"]\n",
    "dfb_trial = dfb_all[(dfb_all['categories'].str.contains('Restaurants', case=False, na=False, regex=True))& (dfb_all['is_open']==1) & dfb_all['state'].isin(us_states)& (dfb_all['postal_code'].str.isdigit())]\n",
    "\n",
    "print('total no of restaurant reviews on yelp:',dfb_trial['review_count'].sum())\n",
    "dfb_trial.groupby('city').agg({'business_id':['count'],'review_count':['sum']}).sort_values(by = ('review_count','sum'), ascending=False).head(10)\n"
   ]
  },
  {
   "cell_type": "markdown",
   "metadata": {},
   "source": [
    "I am considering 'Phoenix' city for my exploratory data analysis as it has the second highest no of businesses (from here on, I will refer to restaurants as businesses so that it is easier to relate to the actual feature in the dataset) that have been reviewed on yelp (12% of total) to ensure that I have enough data at hand. I didnt choose 'Las Vegas' as my test case as this city is primarily a holiday town and we might not observe the expected trends. However, this analysis can be later generalized to include cities like 'Las Vegas' that are heavily populated with tourists.   "
   ]
  },
  {
   "cell_type": "code",
   "execution_count": 162,
   "metadata": {},
   "outputs": [],
   "source": [
    "#Preparing the clean review and business data frames\n",
    "df_business = dfb_all[(dfb_all['categories'].str.contains('Restaurants', case=False, na=False, regex=True))& (dfb_all['is_open']==1) & (dfb_all['city'] == 'Phoenix') & (dfb_all['postal_code'].str.isdigit())]\n",
    "all_ids = df_business['business_id']\n",
    "\n",
    "df_revs = dfr_all[dfr_all['business_id'].isin(all_ids)]\n",
    "\n",
    "\n",
    "\n"
   ]
  },
  {
   "cell_type": "markdown",
   "metadata": {},
   "source": [
    "Now, let us compare the total number of businesses vs the total number of reviews for a given postal code within the city of Phoenix. I am using the total number of businesses in a given pincode to estimate the type of location the business is in. This feature provides the best way to carry this analysis forward within the scope of the current data set. Later, a more precise indicator such as Google data could be incorporated for this purpose."
   ]
  },
  {
   "cell_type": "code",
   "execution_count": 392,
   "metadata": {},
   "outputs": [],
   "source": [
    "#Function to output top 5 values within a particular column of a data frame \n",
    "def sortcolumns(df,colname):\n",
    "    return(df.sort_values(by=colname, ascending=False).head(5))"
   ]
  },
  {
   "cell_type": "code",
   "execution_count": 393,
   "metadata": {},
   "outputs": [
    {
     "name": "stdout",
     "output_type": "stream",
     "text": [
      "Index(['postal_code', 'count'], dtype='object') \n",
      "\n",
      "Total #of businesses\n",
      "   postal_code  count\n",
      "14       85016    181\n",
      "27       85032    172\n",
      "3        85004    160\n",
      "16       85018    143\n",
      "29       85034    127 \n",
      "\n",
      "Total #of reviews\n",
      "   postal_code    sum\n",
      "14       85016  41958\n",
      "3        85004  40072\n",
      "16       85018  36376\n",
      "10       85012  23998\n",
      "27       85032  22697 \n",
      "\n"
     ]
    }
   ],
   "source": [
    "\n",
    "df_aggbusiness = df_business.groupby('postal_code')['business_id'].agg(['count']).reset_index() # Total #of businesses\n",
    "print(df_aggbusiness.columns,'\\n')\n",
    "\n",
    "print('Total #of businesses')\n",
    "print(sortcolumns(df_aggbusiness,'count'),'\\n')\n",
    "\n",
    "df_aggreview_ct = df_business.groupby('postal_code')['review_count'].agg(['sum']).reset_index()  # Total #of reviews\n",
    "\n",
    "print('Total #of reviews')\n",
    "print(sortcolumns(df_aggreview_ct,'sum'),'\\n')"
   ]
  },
  {
   "cell_type": "markdown",
   "metadata": {},
   "source": [
    "We can see that 4 out of top 5 postal codes crowded with restaurants a have higher number of net reviews from people. "
   ]
  },
  {
   "cell_type": "code",
   "execution_count": 396,
   "metadata": {},
   "outputs": [
    {
     "data": {
      "text/html": [
       "<div>\n",
       "<style scoped>\n",
       "    .dataframe tbody tr th:only-of-type {\n",
       "        vertical-align: middle;\n",
       "    }\n",
       "\n",
       "    .dataframe tbody tr th {\n",
       "        vertical-align: top;\n",
       "    }\n",
       "\n",
       "    .dataframe thead th {\n",
       "        text-align: right;\n",
       "    }\n",
       "</style>\n",
       "<table border=\"1\" class=\"dataframe\">\n",
       "  <thead>\n",
       "    <tr style=\"text-align: right;\">\n",
       "      <th></th>\n",
       "      <th>postal_code</th>\n",
       "      <th>no_of_business</th>\n",
       "      <th>net_reviews</th>\n",
       "      <th>postal_ID</th>\n",
       "    </tr>\n",
       "  </thead>\n",
       "  <tbody>\n",
       "    <tr>\n",
       "      <td>0</td>\n",
       "      <td>85001</td>\n",
       "      <td>9</td>\n",
       "      <td>85</td>\n",
       "      <td>1</td>\n",
       "    </tr>\n",
       "    <tr>\n",
       "      <td>1</td>\n",
       "      <td>85002</td>\n",
       "      <td>1</td>\n",
       "      <td>102</td>\n",
       "      <td>2</td>\n",
       "    </tr>\n",
       "    <tr>\n",
       "      <td>2</td>\n",
       "      <td>85003</td>\n",
       "      <td>57</td>\n",
       "      <td>18374</td>\n",
       "      <td>3</td>\n",
       "    </tr>\n",
       "    <tr>\n",
       "      <td>3</td>\n",
       "      <td>85004</td>\n",
       "      <td>160</td>\n",
       "      <td>40072</td>\n",
       "      <td>4</td>\n",
       "    </tr>\n",
       "    <tr>\n",
       "      <td>4</td>\n",
       "      <td>85005</td>\n",
       "      <td>3</td>\n",
       "      <td>488</td>\n",
       "      <td>5</td>\n",
       "    </tr>\n",
       "    <tr>\n",
       "      <td>...</td>\n",
       "      <td>...</td>\n",
       "      <td>...</td>\n",
       "      <td>...</td>\n",
       "      <td>...</td>\n",
       "    </tr>\n",
       "    <tr>\n",
       "      <td>59</td>\n",
       "      <td>85331</td>\n",
       "      <td>2</td>\n",
       "      <td>61</td>\n",
       "      <td>60</td>\n",
       "    </tr>\n",
       "    <tr>\n",
       "      <td>60</td>\n",
       "      <td>85335</td>\n",
       "      <td>1</td>\n",
       "      <td>24</td>\n",
       "      <td>61</td>\n",
       "    </tr>\n",
       "    <tr>\n",
       "      <td>61</td>\n",
       "      <td>85339</td>\n",
       "      <td>11</td>\n",
       "      <td>590</td>\n",
       "      <td>62</td>\n",
       "    </tr>\n",
       "    <tr>\n",
       "      <td>62</td>\n",
       "      <td>85353</td>\n",
       "      <td>1</td>\n",
       "      <td>22</td>\n",
       "      <td>63</td>\n",
       "    </tr>\n",
       "    <tr>\n",
       "      <td>63</td>\n",
       "      <td>85392</td>\n",
       "      <td>1</td>\n",
       "      <td>240</td>\n",
       "      <td>64</td>\n",
       "    </tr>\n",
       "  </tbody>\n",
       "</table>\n",
       "<p>64 rows × 4 columns</p>\n",
       "</div>"
      ],
      "text/plain": [
       "   postal_code  no_of_business  net_reviews  postal_ID\n",
       "0        85001               9           85          1\n",
       "1        85002               1          102          2\n",
       "2        85003              57        18374          3\n",
       "3        85004             160        40072          4\n",
       "4        85005               3          488          5\n",
       "..         ...             ...          ...        ...\n",
       "59       85331               2           61         60\n",
       "60       85335               1           24         61\n",
       "61       85339              11          590         62\n",
       "62       85353               1           22         63\n",
       "63       85392               1          240         64\n",
       "\n",
       "[64 rows x 4 columns]"
      ]
     },
     "execution_count": 396,
     "metadata": {},
     "output_type": "execute_result"
    }
   ],
   "source": [
    "#Merge two data frames\n",
    "df = pd.merge(df_aggbusiness, df_aggreview_ct, on='postal_code')\n",
    "\n",
    "#Rename columns in merged dataframe to make them more intutive\n",
    "df.rename(columns={\"count\": \"no_of_business\", \"sum\": \"net_reviews\"},inplace=True)\n",
    "\n",
    "#Adding a new column containing an id associated with every postal code (for plotting purposes)\n",
    "df['postal_ID'] = df.index +1\n",
    "df"
   ]
  },
  {
   "cell_type": "code",
   "execution_count": 404,
   "metadata": {},
   "outputs": [
    {
     "data": {
      "image/png": "[encoded data removed]",
      "text/plain": [
       "<Figure size 432x288 with 2 Axes>"
      ]
     },
     "metadata": {
      "needs_background": "light"
     },
     "output_type": "display_data"
    }
   ],
   "source": [
    "#Explore the correlation between 'no_of_business' and 'net_reviews' with a scatter plot\n",
    "fig, ax = plt.subplots()\n",
    "fig.suptitle('Fig1: correlation between no_of_business and net_reviews')\n",
    "df.plot(kind='scatter',x='postal_ID', y='no_of_business', c='net_reviews',colormap='viridis',ax=ax)\n",
    "rect = patches.Rectangle((5,40),40,35,linewidth=1,edgecolor='r',facecolor='none')\n",
    "ax.add_patch(rect)\n",
    "fig.savefig('Asset1.png')\n",
    "#ax.axhline(y=np.mean(df['no_of_business']), color='r', linestyle='dashed') #average no_of_businesses in a postal code"
   ]
  },
  {
   "cell_type": "markdown",
   "metadata": {},
   "source": [
    "Unsurpisingly, Fig 1 shows that postal codes with most businesses have the most no. of review counts. Now let us see this more clearly by looking at the histogram of the number of review counts in a postal code with 181 businesses (max no of businesses in a given postal code in this city). \n",
    "\n",
    "Notice that, on an average, a postal code in this city has 50-70 restaurants (data points in the red rectangle in Fig 1)."
   ]
  },
  {
   "cell_type": "code",
   "execution_count": 442,
   "metadata": {},
   "outputs": [
    {
     "data": {
      "text/html": [
       "<div>\n",
       "<style scoped>\n",
       "    .dataframe tbody tr th:only-of-type {\n",
       "        vertical-align: middle;\n",
       "    }\n",
       "\n",
       "    .dataframe tbody tr th {\n",
       "        vertical-align: top;\n",
       "    }\n",
       "\n",
       "    .dataframe thead th {\n",
       "        text-align: right;\n",
       "    }\n",
       "</style>\n",
       "<table border=\"1\" class=\"dataframe\">\n",
       "  <thead>\n",
       "    <tr style=\"text-align: right;\">\n",
       "      <th></th>\n",
       "      <th>postal_code</th>\n",
       "      <th>no_of_business</th>\n",
       "      <th>net_reviews</th>\n",
       "      <th>postal_ID</th>\n",
       "    </tr>\n",
       "  </thead>\n",
       "  <tbody>\n",
       "    <tr>\n",
       "      <td>2</td>\n",
       "      <td>85003</td>\n",
       "      <td>57</td>\n",
       "      <td>18374</td>\n",
       "      <td>3</td>\n",
       "    </tr>\n",
       "    <tr>\n",
       "      <td>5</td>\n",
       "      <td>85006</td>\n",
       "      <td>66</td>\n",
       "      <td>16479</td>\n",
       "      <td>6</td>\n",
       "    </tr>\n",
       "    <tr>\n",
       "      <td>8</td>\n",
       "      <td>85009</td>\n",
       "      <td>56</td>\n",
       "      <td>2591</td>\n",
       "      <td>9</td>\n",
       "    </tr>\n",
       "    <tr>\n",
       "      <td>10</td>\n",
       "      <td>85012</td>\n",
       "      <td>62</td>\n",
       "      <td>23998</td>\n",
       "      <td>11</td>\n",
       "    </tr>\n",
       "    <tr>\n",
       "      <td>11</td>\n",
       "      <td>85013</td>\n",
       "      <td>57</td>\n",
       "      <td>11394</td>\n",
       "      <td>12</td>\n",
       "    </tr>\n",
       "  </tbody>\n",
       "</table>\n",
       "</div>"
      ],
      "text/plain": [
       "   postal_code  no_of_business  net_reviews  postal_ID\n",
       "2        85003              57        18374          3\n",
       "5        85006              66        16479          6\n",
       "8        85009              56         2591          9\n",
       "10       85012              62        23998         11\n",
       "11       85013              57        11394         12"
      ]
     },
     "execution_count": 442,
     "metadata": {},
     "output_type": "execute_result"
    }
   ],
   "source": [
    "#List postal codes having businesses within the red rectangle in Fig 1 i.e. between 50-70\n",
    "df[(df['no_of_business'] >= 50) & (df['no_of_business'] <= 70)].head(5)"
   ]
  },
  {
   "cell_type": "code",
   "execution_count": 451,
   "metadata": {},
   "outputs": [
    {
     "data": {
      "image/png": "[encoded data removed]",
      "text/plain": [
       "<Figure size 720x720 with 4 Axes>"
      ]
     },
     "metadata": {
      "needs_background": "light"
     },
     "output_type": "display_data"
    }
   ],
   "source": [
    "# Postal code with 181 restaurants (max number of businesses for a given postal code in the city)\n",
    "df_max = df_business[df_business['postal_code'] == '85016']\n",
    "\n",
    "fig2, ax2 = plt.subplots(nrows=2, ncols=2,figsize=(10,10))\n",
    "df_max.hist('review_count',grid=False,bins=7,ax=ax2[0,0])\n",
    "df_max.hist('stars',grid=False,bins=7,ax=ax2[0,1])\n",
    "ax2[0,1].set_xlim(0,5)\n",
    "fig2.text(0.25, 0.91 , \"Businesses in the popular postal code 85016\" ,size=15.0)\n",
    "\n",
    "# Example of a postal code with 57 restaurants - representative of the 'average location in the city'\n",
    "df85003 = df_business[df_business['postal_code'] == '85003']\n",
    "\n",
    "df85003.hist('review_count',grid=False,bins=4,ax=ax2[1,0])\n",
    "df85003.hist('stars',grid=False,ax=ax2[1,1])\n",
    "ax2[1,1].set_xlim(0,5)\n",
    "fig2.text(0.25, 0.49 , \"Businesses in the unpopular postal code 85003\" ,size=15.0)\n",
    "plt.show()\n",
    "fig2.savefig('Asset2.png')"
   ]
  },
  {
   "cell_type": "markdown",
   "metadata": {},
   "source": [
    "We can easily see that the values on the y axis in the review_count histogram have significantly dropped in second case i.e. for the postal code which is more representative of a typical location in the city. The postal code 85016 is among the city's popular locations for food options and therefore attracts more people than the postal code 85003. Moreover, the postal code 85016 also has a large number of 4 or higher star rated businesses.\n"
   ]
  },
  {
   "cell_type": "code",
   "execution_count": 403,
   "metadata": {},
   "outputs": [
    {
     "name": "stdout",
     "output_type": "stream",
     "text": [
      "9636\n",
      "41958 \n",
      "\n",
      "5802\n",
      "18374\n"
     ]
    }
   ],
   "source": [
    "\n",
    "print(df_max[df_max['stars'].astype(float)> 4.0]['review_count'].sum()) # net reviews for businesses with stars> 4\n",
    "print(df_max['review_count'].sum(),'\\n') # net reviews for all businesses in postal code 85016\n",
    "\n",
    "\n",
    "print(df85003[df85003['stars'].astype(float)> 4.0]['review_count'].sum()) # net reviews for businesses with stars> 4\n",
    "print(df85003['review_count'].sum()) # net reviews for all businesses in postal code 85003"
   ]
  },
  {
   "cell_type": "markdown",
   "metadata": {},
   "source": [
    "# Conclusion"
   ]
  },
  {
   "cell_type": "markdown",
   "metadata": {},
   "source": [
    "Now, lets analyze the 'stars' histogram for the two postal codes. The peaks of the histograms show that there are higher number of 4 or higher star rating businesses for the postal code more crowded with restaurants (85016). However, a simple calculation points out that only 22% of businesses in postal code 85016 are rating 4 and above, while about 31% of restaurants in postal code 85003 are rating 4 and above. \n",
    "\n",
    "This suggests that even though, higher number of people tend to visit the restaurants in the neighbourhood 85016, it is more likely that one would find a good restaurant in the neighbourhood 85003 (the one that is not as popular for restaurants).\n",
    "\n",
    "Therefore, the revised rating and review count of the restaurant on the basis of the postal code it is in will provide more insight about the true review of that restaurant."
   ]
  }
 ],
 "metadata": {
  "kernelspec": {
   "display_name": "Python 3",
   "language": "python",
   "name": "python3"
  },
  "language_info": {
   "codemirror_mode": {
    "name": "ipython",
    "version": 3
   },
   "file_extension": ".py",
   "mimetype": "text/x-python",
   "name": "python",
   "nbconvert_exporter": "python",
   "pygments_lexer": "ipython3",
   "version": "3.7.4"
  }
 },
 "nbformat": 4,
 "nbformat_minor": 2
}
