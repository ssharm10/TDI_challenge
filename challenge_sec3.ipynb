{
 "cells": [
  {
   "cell_type": "code",
   "execution_count": 50,
   "metadata": {},
   "outputs": [],
   "source": [
    "import datetime\n",
    "import os\n",
    "import pandas as pd\n",
    "from sklearn.linear_model import LinearRegression\n",
    "from sklearn.metrics import  r2_score\n",
    "import matplotlib.pyplot as plt\n",
    "import numpy as np"
   ]
  },
  {
   "cell_type": "code",
   "execution_count": 51,
   "metadata": {},
   "outputs": [],
   "source": [
    "coinset = [0.01,0.05,0.10,0.25,0.5] #pennies,nickels,dimes,quarters,half-dollars \n",
    "#Assumming all of them are equal in number and a lot of them are present in the bag "
   ]
  },
  {
   "cell_type": "code",
   "execution_count": 52,
   "metadata": {},
   "outputs": [],
   "source": [
    "def cal_prob(iter,item_price):\n",
    "    count = 0\n",
    "    for i in range(iter):\n",
    "        dollar_value = np.random.choice(coinset,10,replace=True) \n",
    "        if (dollar_value.sum() >=item_price):\n",
    "            count += 1\n",
    "    prob = round(count/iter,5)\n",
    "    return prob"
   ]
  },
  {
   "cell_type": "markdown",
   "metadata": {},
   "source": [
    "Q1 : Solution"
   ]
  },
  {
   "cell_type": "code",
   "execution_count": 53,
   "metadata": {},
   "outputs": [
    {
     "data": {
      "text/plain": [
       "0.93442"
      ]
     },
     "execution_count": 53,
     "metadata": {},
     "output_type": "execute_result"
    }
   ],
   "source": [
    "iter = 1000000 #No of times the experiment needs to repeated\n",
    "item_price = 1.0\n",
    "prob_q1 = cal_prob(iter,item_price)\n",
    "prob_q1"
   ]
  },
  {
   "cell_type": "markdown",
   "metadata": {},
   "source": [
    "Q2 : Solution"
   ]
  },
  {
   "cell_type": "code",
   "execution_count": 56,
   "metadata": {},
   "outputs": [
    {
     "data": {
      "text/plain": [
       "0.3672"
      ]
     },
     "execution_count": 56,
     "metadata": {},
     "output_type": "execute_result"
    }
   ],
   "source": [
    "iter = 1000000 #No of times the experiment needs to repeated\n",
    "item_price = 2.0\n",
    "prob_q2 = cal_prob(iter,item_price)\n",
    "prob_q2"
   ]
  },
  {
   "cell_type": "code",
   "execution_count": 55,
   "metadata": {},
   "outputs": [],
   "source": [
    "def cal_change(iter,min_dollarval):\n",
    "    change_arr = []\n",
    "    for i in range(iter):\n",
    "        total_dollarval = 0.0    \n",
    "        while total_dollarval <=min_dollarval:\n",
    "            draw = np.random.choice(coinset,replace=True)\n",
    "            total_dollarval += draw\n",
    "        change = total_dollarval - min_dollarval\n",
    "        change_arr.append(change)\n",
    "    avgchange = round(np.mean(change_arr),5)\n",
    "    stdchange = round(np.std(change_arr),5)\n",
    "    return avgchange,stdchange"
   ]
  },
  {
   "cell_type": "markdown",
   "metadata": {},
   "source": [
    "Q3 & Q4 : Solution"
   ]
  },
  {
   "cell_type": "code",
   "execution_count": 60,
   "metadata": {},
   "outputs": [
    {
     "name": "stdout",
     "output_type": "stream",
     "text": [
      "0.20516 0.14013\n"
     ]
    }
   ],
   "source": [
    "min_dollarval = 0.25\n",
    "iter = 1000000\n",
    "avgchange,stdchange = cal_change(iter,min_dollarval)\n",
    "print(avgchange,stdchange)"
   ]
  },
  {
   "cell_type": "markdown",
   "metadata": {},
   "source": [
    "Q5 & Q6 : Solution"
   ]
  },
  {
   "cell_type": "code",
   "execution_count": 58,
   "metadata": {},
   "outputs": [
    {
     "name": "stdout",
     "output_type": "stream",
     "text": [
      "0.17655 0.14145\n"
     ]
    }
   ],
   "source": [
    "min_dollarval = 1.0\n",
    "iter = 1000000\n",
    "avgchange,stdchange = cal_change(iter,min_dollarval)\n",
    "print(avgchange,stdchange)"
   ]
  },
  {
   "cell_type": "markdown",
   "metadata": {},
   "source": [
    "Q7 & Q8 : Solution"
   ]
  },
  {
   "cell_type": "code",
   "execution_count": 59,
   "metadata": {},
   "outputs": [
    {
     "name": "stdout",
     "output_type": "stream",
     "text": [
      "0.18366 0.14155\n"
     ]
    }
   ],
   "source": [
    "min_dollarval = 10.0\n",
    "iter = 1000000\n",
    "avgchange,stdchange = cal_change(iter,min_dollarval)\n",
    "print(avgchange,stdchange)"
   ]
  },
  {
   "cell_type": "code",
   "execution_count": null,
   "metadata": {},
   "outputs": [],
   "source": []
  }
 ],
 "metadata": {
  "kernelspec": {
   "display_name": "Python 3",
   "language": "python",
   "name": "python3"
  },
  "language_info": {
   "codemirror_mode": {
    "name": "ipython",
    "version": 3
   },
   "file_extension": ".py",
   "mimetype": "text/x-python",
   "name": "python",
   "nbconvert_exporter": "python",
   "pygments_lexer": "ipython3",
   "version": "3.7.4"
  }
 },
 "nbformat": 4,
 "nbformat_minor": 2
}
