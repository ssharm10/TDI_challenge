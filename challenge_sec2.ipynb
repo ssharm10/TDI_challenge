{
 "cells": [
  {
   "cell_type": "code",
   "execution_count": 362,
   "metadata": {},
   "outputs": [],
   "source": [
    "import datetime\n",
    "import os\n",
    "import pandas as pd\n",
    "from sklearn.linear_model import LinearRegression\n",
    "from sklearn.metrics import  r2_score\n",
    "import matplotlib.pyplot as plt\n",
    "import numpy as np\n",
    "from urllib.request import urlopen\n",
    "from bs4 import BeautifulSoup \n",
    "import re\n",
    "from scipy.stats import pearsonr"
   ]
  },
  {
   "cell_type": "markdown",
   "metadata": {},
   "source": [
    "### Artworks data downloaded directly from the link provided\n",
    "Description of data:\n",
    "https://github.com/MuseumofModernArt/collection\n",
    "\n"
   ]
  },
  {
   "cell_type": "code",
   "execution_count": 398,
   "metadata": {
    "scrolled": true
   },
   "outputs": [],
   "source": [
    "#load the data\n",
    "df = pd.read_csv('https://dataincubator-challenge.s3.amazonaws.com/data-challenge-202103/Artworks.csv')"
   ]
  },
  {
   "cell_type": "code",
   "execution_count": 399,
   "metadata": {},
   "outputs": [
    {
     "name": "stdout",
     "output_type": "stream",
     "text": [
      "                                               Title  \\\n",
      "0  Ferdinandsbrücke Project, Vienna, Austria (Ele...   \n",
      "1  City of Music, National Superior Conservatory ...   \n",
      "2  Villa near Vienna Project, Outside Vienna, Aus...   \n",
      "3  The Manhattan Transcripts Project, New York, N...   \n",
      "4  Villa, project, outside Vienna, Austria, Exter...   \n",
      "\n",
      "                     Artist ConstituentID  \\\n",
      "0               Otto Wagner          6210   \n",
      "1  Christian de Portzamparc          7470   \n",
      "2                Emil Hoppe          7605   \n",
      "3           Bernard Tschumi          7056   \n",
      "4                Emil Hoppe          7605   \n",
      "\n",
      "                                   ArtistBio Nationality BeginDate EndDate  \\\n",
      "0                      (Austrian, 1841–1918)  (Austrian)    (1841)  (1918)   \n",
      "1                        (French, born 1944)    (French)    (1944)     (0)   \n",
      "2                      (Austrian, 1876–1957)  (Austrian)    (1876)  (1957)   \n",
      "3  (French and Swiss, born Switzerland 1944)          ()    (1944)     (0)   \n",
      "4                      (Austrian, 1876–1957)  (Austrian)    (1876)  (1957)   \n",
      "\n",
      "   Gender  Date                                             Medium  ...  \\\n",
      "0  (Male)  1896      Ink and cut-and-pasted painted pages on paper  ...   \n",
      "1  (Male)  1987                  Paint and colored pencil on print  ...   \n",
      "2  (Male)  1903  Graphite, pen, color pencil, ink, and gouache ...  ...   \n",
      "3  (Male)  1980  Photographic reproduction with colored synthet...  ...   \n",
      "4  (Male)  1903  Graphite, color pencil, ink, and gouache on tr...  ...   \n",
      "\n",
      "                                        ThumbnailURL Circumference (cm)  \\\n",
      "0  http://www.moma.org/media/W1siZiIsIjU5NDA1Il0s...                NaN   \n",
      "1  http://www.moma.org/media/W1siZiIsIjk3Il0sWyJw...                NaN   \n",
      "2  http://www.moma.org/media/W1siZiIsIjk4Il0sWyJw...                NaN   \n",
      "3  http://www.moma.org/media/W1siZiIsIjEyNCJdLFsi...                NaN   \n",
      "4  http://www.moma.org/media/W1siZiIsIjEyNiJdLFsi...                NaN   \n",
      "\n",
      "  Depth (cm) Diameter (cm) Height (cm) Length (cm) Weight (kg)  Width (cm)  \\\n",
      "0        NaN           NaN     48.6000         NaN         NaN    168.9000   \n",
      "1        NaN           NaN     40.6401         NaN         NaN     29.8451   \n",
      "2        NaN           NaN     34.3000         NaN         NaN     31.8000   \n",
      "3        NaN           NaN     50.8000         NaN         NaN     50.8000   \n",
      "4        NaN           NaN     38.4000         NaN         NaN     19.1000   \n",
      "\n",
      "  Seat Height (cm) Duration (sec.)  \n",
      "0              NaN             NaN  \n",
      "1              NaN             NaN  \n",
      "2              NaN             NaN  \n",
      "3              NaN             NaN  \n",
      "4              NaN             NaN  \n",
      "\n",
      "[5 rows x 29 columns]\n"
     ]
    },
    {
     "data": {
      "text/plain": [
       "Index(['Title', 'Artist', 'ConstituentID', 'ArtistBio', 'Nationality',\n",
       "       'BeginDate', 'EndDate', 'Gender', 'Date', 'Medium', 'Dimensions',\n",
       "       'CreditLine', 'AccessionNumber', 'Classification', 'Department',\n",
       "       'DateAcquired', 'Cataloged', 'ObjectID', 'URL', 'ThumbnailURL',\n",
       "       'Circumference (cm)', 'Depth (cm)', 'Diameter (cm)', 'Height (cm)',\n",
       "       'Length (cm)', 'Weight (kg)', 'Width (cm)', 'Seat Height (cm)',\n",
       "       'Duration (sec.)'],\n",
       "      dtype='object')"
      ]
     },
     "execution_count": 399,
     "metadata": {},
     "output_type": "execute_result"
    }
   ],
   "source": [
    "#Looking at the data\n",
    "print(df.head(5))\n",
    "df.columns"
   ]
  },
  {
   "cell_type": "code",
   "execution_count": 400,
   "metadata": {},
   "outputs": [
    {
     "data": {
      "text/html": [
       "<div>\n",
       "<style scoped>\n",
       "    .dataframe tbody tr th:only-of-type {\n",
       "        vertical-align: middle;\n",
       "    }\n",
       "\n",
       "    .dataframe tbody tr th {\n",
       "        vertical-align: top;\n",
       "    }\n",
       "\n",
       "    .dataframe thead th {\n",
       "        text-align: right;\n",
       "    }\n",
       "</style>\n",
       "<table border=\"1\" class=\"dataframe\">\n",
       "  <thead>\n",
       "    <tr style=\"text-align: right;\">\n",
       "      <th></th>\n",
       "      <th>Title</th>\n",
       "      <th>Artist</th>\n",
       "      <th>ConstituentID</th>\n",
       "      <th>ArtistBio</th>\n",
       "      <th>Nationality</th>\n",
       "      <th>BeginDate</th>\n",
       "      <th>EndDate</th>\n",
       "      <th>Gender</th>\n",
       "      <th>Date</th>\n",
       "      <th>Medium</th>\n",
       "      <th>...</th>\n",
       "      <th>ThumbnailURL</th>\n",
       "      <th>Circumference (cm)</th>\n",
       "      <th>Depth (cm)</th>\n",
       "      <th>Diameter (cm)</th>\n",
       "      <th>Height (cm)</th>\n",
       "      <th>Length (cm)</th>\n",
       "      <th>Weight (kg)</th>\n",
       "      <th>Width (cm)</th>\n",
       "      <th>Seat Height (cm)</th>\n",
       "      <th>Duration (sec.)</th>\n",
       "    </tr>\n",
       "  </thead>\n",
       "  <tbody>\n",
       "    <tr>\n",
       "      <td>0</td>\n",
       "      <td>Ferdinandsbrücke Project, Vienna, Austria (Ele...</td>\n",
       "      <td>Otto Wagner</td>\n",
       "      <td>6210</td>\n",
       "      <td>(Austrian, 1841–1918)</td>\n",
       "      <td>(Austrian)</td>\n",
       "      <td>(1841)</td>\n",
       "      <td>(1918)</td>\n",
       "      <td>(Male)</td>\n",
       "      <td>1896</td>\n",
       "      <td>Ink and cut-and-pasted painted pages on paper</td>\n",
       "      <td>...</td>\n",
       "      <td>http://www.moma.org/media/W1siZiIsIjU5NDA1Il0s...</td>\n",
       "      <td>NaN</td>\n",
       "      <td>NaN</td>\n",
       "      <td>NaN</td>\n",
       "      <td>48.600000</td>\n",
       "      <td>NaN</td>\n",
       "      <td>NaN</td>\n",
       "      <td>168.900000</td>\n",
       "      <td>NaN</td>\n",
       "      <td>NaN</td>\n",
       "    </tr>\n",
       "    <tr>\n",
       "      <td>1</td>\n",
       "      <td>City of Music, National Superior Conservatory ...</td>\n",
       "      <td>Christian de Portzamparc</td>\n",
       "      <td>7470</td>\n",
       "      <td>(French, born 1944)</td>\n",
       "      <td>(French)</td>\n",
       "      <td>(1944)</td>\n",
       "      <td>(0)</td>\n",
       "      <td>(Male)</td>\n",
       "      <td>1987</td>\n",
       "      <td>Paint and colored pencil on print</td>\n",
       "      <td>...</td>\n",
       "      <td>http://www.moma.org/media/W1siZiIsIjk3Il0sWyJw...</td>\n",
       "      <td>NaN</td>\n",
       "      <td>NaN</td>\n",
       "      <td>NaN</td>\n",
       "      <td>40.640100</td>\n",
       "      <td>NaN</td>\n",
       "      <td>NaN</td>\n",
       "      <td>29.845100</td>\n",
       "      <td>NaN</td>\n",
       "      <td>NaN</td>\n",
       "    </tr>\n",
       "    <tr>\n",
       "      <td>2</td>\n",
       "      <td>Villa near Vienna Project, Outside Vienna, Aus...</td>\n",
       "      <td>Emil Hoppe</td>\n",
       "      <td>7605</td>\n",
       "      <td>(Austrian, 1876–1957)</td>\n",
       "      <td>(Austrian)</td>\n",
       "      <td>(1876)</td>\n",
       "      <td>(1957)</td>\n",
       "      <td>(Male)</td>\n",
       "      <td>1903</td>\n",
       "      <td>Graphite, pen, color pencil, ink, and gouache ...</td>\n",
       "      <td>...</td>\n",
       "      <td>http://www.moma.org/media/W1siZiIsIjk4Il0sWyJw...</td>\n",
       "      <td>NaN</td>\n",
       "      <td>NaN</td>\n",
       "      <td>NaN</td>\n",
       "      <td>34.300000</td>\n",
       "      <td>NaN</td>\n",
       "      <td>NaN</td>\n",
       "      <td>31.800000</td>\n",
       "      <td>NaN</td>\n",
       "      <td>NaN</td>\n",
       "    </tr>\n",
       "    <tr>\n",
       "      <td>3</td>\n",
       "      <td>The Manhattan Transcripts Project, New York, N...</td>\n",
       "      <td>Bernard Tschumi</td>\n",
       "      <td>7056</td>\n",
       "      <td>(French and Swiss, born Switzerland 1944)</td>\n",
       "      <td>()</td>\n",
       "      <td>(1944)</td>\n",
       "      <td>(0)</td>\n",
       "      <td>(Male)</td>\n",
       "      <td>1980</td>\n",
       "      <td>Photographic reproduction with colored synthet...</td>\n",
       "      <td>...</td>\n",
       "      <td>http://www.moma.org/media/W1siZiIsIjEyNCJdLFsi...</td>\n",
       "      <td>NaN</td>\n",
       "      <td>NaN</td>\n",
       "      <td>NaN</td>\n",
       "      <td>50.800000</td>\n",
       "      <td>NaN</td>\n",
       "      <td>NaN</td>\n",
       "      <td>50.800000</td>\n",
       "      <td>NaN</td>\n",
       "      <td>NaN</td>\n",
       "    </tr>\n",
       "    <tr>\n",
       "      <td>4</td>\n",
       "      <td>Villa, project, outside Vienna, Austria, Exter...</td>\n",
       "      <td>Emil Hoppe</td>\n",
       "      <td>7605</td>\n",
       "      <td>(Austrian, 1876–1957)</td>\n",
       "      <td>(Austrian)</td>\n",
       "      <td>(1876)</td>\n",
       "      <td>(1957)</td>\n",
       "      <td>(Male)</td>\n",
       "      <td>1903</td>\n",
       "      <td>Graphite, color pencil, ink, and gouache on tr...</td>\n",
       "      <td>...</td>\n",
       "      <td>http://www.moma.org/media/W1siZiIsIjEyNiJdLFsi...</td>\n",
       "      <td>NaN</td>\n",
       "      <td>NaN</td>\n",
       "      <td>NaN</td>\n",
       "      <td>38.400000</td>\n",
       "      <td>NaN</td>\n",
       "      <td>NaN</td>\n",
       "      <td>19.100000</td>\n",
       "      <td>NaN</td>\n",
       "      <td>NaN</td>\n",
       "    </tr>\n",
       "    <tr>\n",
       "      <td>...</td>\n",
       "      <td>...</td>\n",
       "      <td>...</td>\n",
       "      <td>...</td>\n",
       "      <td>...</td>\n",
       "      <td>...</td>\n",
       "      <td>...</td>\n",
       "      <td>...</td>\n",
       "      <td>...</td>\n",
       "      <td>...</td>\n",
       "      <td>...</td>\n",
       "      <td>...</td>\n",
       "      <td>...</td>\n",
       "      <td>...</td>\n",
       "      <td>...</td>\n",
       "      <td>...</td>\n",
       "      <td>...</td>\n",
       "      <td>...</td>\n",
       "      <td>...</td>\n",
       "      <td>...</td>\n",
       "      <td>...</td>\n",
       "      <td>...</td>\n",
       "    </tr>\n",
       "    <tr>\n",
       "      <td>138146</td>\n",
       "      <td>Untitled</td>\n",
       "      <td>Chesnutt Brothers Studio, Andrew Chesnutt, Lew...</td>\n",
       "      <td>133005, 133006, 133007</td>\n",
       "      <td>(American, 1861–1934) (American, 1860–1933)</td>\n",
       "      <td>() (American) (American)</td>\n",
       "      <td>(0) (1861) (1860)</td>\n",
       "      <td>(0) (1934) (1933)</td>\n",
       "      <td>() (Male) (Male)</td>\n",
       "      <td>c. 1890</td>\n",
       "      <td>Gelatin silver print</td>\n",
       "      <td>...</td>\n",
       "      <td>http://www.moma.org/media/W1siZiIsIjQ5MjcyMiJd...</td>\n",
       "      <td>NaN</td>\n",
       "      <td>NaN</td>\n",
       "      <td>NaN</td>\n",
       "      <td>10.795022</td>\n",
       "      <td>NaN</td>\n",
       "      <td>NaN</td>\n",
       "      <td>16.510033</td>\n",
       "      <td>NaN</td>\n",
       "      <td>NaN</td>\n",
       "    </tr>\n",
       "    <tr>\n",
       "      <td>138147</td>\n",
       "      <td>Plate (folio 2 verso) from Muscheln und schirm...</td>\n",
       "      <td>Sophie Taeuber-Arp</td>\n",
       "      <td>5777</td>\n",
       "      <td>(Swiss, 1889–1943)</td>\n",
       "      <td>(Swiss)</td>\n",
       "      <td>(1889)</td>\n",
       "      <td>(1943)</td>\n",
       "      <td>(Female)</td>\n",
       "      <td>1939</td>\n",
       "      <td>One from an illustrated book with four line bl...</td>\n",
       "      <td>...</td>\n",
       "      <td>http://www.moma.org/media/W1siZiIsIjQ4NTExNSJd...</td>\n",
       "      <td>NaN</td>\n",
       "      <td>NaN</td>\n",
       "      <td>NaN</td>\n",
       "      <td>13.500000</td>\n",
       "      <td>NaN</td>\n",
       "      <td>NaN</td>\n",
       "      <td>10.000000</td>\n",
       "      <td>NaN</td>\n",
       "      <td>NaN</td>\n",
       "    </tr>\n",
       "    <tr>\n",
       "      <td>138148</td>\n",
       "      <td>Plate (folio 6) from Muscheln und schirme (She...</td>\n",
       "      <td>Sophie Taeuber-Arp</td>\n",
       "      <td>5777</td>\n",
       "      <td>(Swiss, 1889–1943)</td>\n",
       "      <td>(Swiss)</td>\n",
       "      <td>(1889)</td>\n",
       "      <td>(1943)</td>\n",
       "      <td>(Female)</td>\n",
       "      <td>1939</td>\n",
       "      <td>One from an illustrated book with four line bl...</td>\n",
       "      <td>...</td>\n",
       "      <td>http://www.moma.org/media/W1siZiIsIjQ4NTExOCJd...</td>\n",
       "      <td>NaN</td>\n",
       "      <td>NaN</td>\n",
       "      <td>NaN</td>\n",
       "      <td>13.500000</td>\n",
       "      <td>NaN</td>\n",
       "      <td>NaN</td>\n",
       "      <td>10.000000</td>\n",
       "      <td>NaN</td>\n",
       "      <td>NaN</td>\n",
       "    </tr>\n",
       "    <tr>\n",
       "      <td>138149</td>\n",
       "      <td>Plate (folio 12) from Muscheln und schirme (Sh...</td>\n",
       "      <td>Sophie Taeuber-Arp</td>\n",
       "      <td>5777</td>\n",
       "      <td>(Swiss, 1889–1943)</td>\n",
       "      <td>(Swiss)</td>\n",
       "      <td>(1889)</td>\n",
       "      <td>(1943)</td>\n",
       "      <td>(Female)</td>\n",
       "      <td>1939</td>\n",
       "      <td>One from an illustrated book with four line bl...</td>\n",
       "      <td>...</td>\n",
       "      <td>http://www.moma.org/media/W1siZiIsIjQ4NTEyMCJd...</td>\n",
       "      <td>NaN</td>\n",
       "      <td>NaN</td>\n",
       "      <td>NaN</td>\n",
       "      <td>11.000000</td>\n",
       "      <td>NaN</td>\n",
       "      <td>NaN</td>\n",
       "      <td>10.000000</td>\n",
       "      <td>NaN</td>\n",
       "      <td>NaN</td>\n",
       "    </tr>\n",
       "    <tr>\n",
       "      <td>138150</td>\n",
       "      <td>Plate (folio 16) from Muscheln und schirme (Sh...</td>\n",
       "      <td>Sophie Taeuber-Arp</td>\n",
       "      <td>5777</td>\n",
       "      <td>(Swiss, 1889–1943)</td>\n",
       "      <td>(Swiss)</td>\n",
       "      <td>(1889)</td>\n",
       "      <td>(1943)</td>\n",
       "      <td>(Female)</td>\n",
       "      <td>1939</td>\n",
       "      <td>One from an illustrated book with four line bl...</td>\n",
       "      <td>...</td>\n",
       "      <td>http://www.moma.org/media/W1siZiIsIjQ4NTEyMSJd...</td>\n",
       "      <td>NaN</td>\n",
       "      <td>NaN</td>\n",
       "      <td>NaN</td>\n",
       "      <td>13.500000</td>\n",
       "      <td>NaN</td>\n",
       "      <td>NaN</td>\n",
       "      <td>10.000000</td>\n",
       "      <td>NaN</td>\n",
       "      <td>NaN</td>\n",
       "    </tr>\n",
       "  </tbody>\n",
       "</table>\n",
       "<p>129930 rows × 29 columns</p>\n",
       "</div>"
      ],
      "text/plain": [
       "                                                    Title  \\\n",
       "0       Ferdinandsbrücke Project, Vienna, Austria (Ele...   \n",
       "1       City of Music, National Superior Conservatory ...   \n",
       "2       Villa near Vienna Project, Outside Vienna, Aus...   \n",
       "3       The Manhattan Transcripts Project, New York, N...   \n",
       "4       Villa, project, outside Vienna, Austria, Exter...   \n",
       "...                                                   ...   \n",
       "138146                                           Untitled   \n",
       "138147  Plate (folio 2 verso) from Muscheln und schirm...   \n",
       "138148  Plate (folio 6) from Muscheln und schirme (She...   \n",
       "138149  Plate (folio 12) from Muscheln und schirme (Sh...   \n",
       "138150  Plate (folio 16) from Muscheln und schirme (Sh...   \n",
       "\n",
       "                                                   Artist  \\\n",
       "0                                             Otto Wagner   \n",
       "1                                Christian de Portzamparc   \n",
       "2                                              Emil Hoppe   \n",
       "3                                         Bernard Tschumi   \n",
       "4                                              Emil Hoppe   \n",
       "...                                                   ...   \n",
       "138146  Chesnutt Brothers Studio, Andrew Chesnutt, Lew...   \n",
       "138147                                 Sophie Taeuber-Arp   \n",
       "138148                                 Sophie Taeuber-Arp   \n",
       "138149                                 Sophie Taeuber-Arp   \n",
       "138150                                 Sophie Taeuber-Arp   \n",
       "\n",
       "                 ConstituentID                                    ArtistBio  \\\n",
       "0                         6210                        (Austrian, 1841–1918)   \n",
       "1                         7470                          (French, born 1944)   \n",
       "2                         7605                        (Austrian, 1876–1957)   \n",
       "3                         7056    (French and Swiss, born Switzerland 1944)   \n",
       "4                         7605                        (Austrian, 1876–1957)   \n",
       "...                        ...                                          ...   \n",
       "138146  133005, 133006, 133007  (American, 1861–1934) (American, 1860–1933)   \n",
       "138147                    5777                           (Swiss, 1889–1943)   \n",
       "138148                    5777                           (Swiss, 1889–1943)   \n",
       "138149                    5777                           (Swiss, 1889–1943)   \n",
       "138150                    5777                           (Swiss, 1889–1943)   \n",
       "\n",
       "                     Nationality          BeginDate            EndDate  \\\n",
       "0                     (Austrian)             (1841)             (1918)   \n",
       "1                       (French)             (1944)                (0)   \n",
       "2                     (Austrian)             (1876)             (1957)   \n",
       "3                             ()             (1944)                (0)   \n",
       "4                     (Austrian)             (1876)             (1957)   \n",
       "...                          ...                ...                ...   \n",
       "138146  () (American) (American)  (0) (1861) (1860)  (0) (1934) (1933)   \n",
       "138147                   (Swiss)             (1889)             (1943)   \n",
       "138148                   (Swiss)             (1889)             (1943)   \n",
       "138149                   (Swiss)             (1889)             (1943)   \n",
       "138150                   (Swiss)             (1889)             (1943)   \n",
       "\n",
       "                  Gender     Date  \\\n",
       "0                 (Male)     1896   \n",
       "1                 (Male)     1987   \n",
       "2                 (Male)     1903   \n",
       "3                 (Male)     1980   \n",
       "4                 (Male)     1903   \n",
       "...                  ...      ...   \n",
       "138146  () (Male) (Male)  c. 1890   \n",
       "138147          (Female)     1939   \n",
       "138148          (Female)     1939   \n",
       "138149          (Female)     1939   \n",
       "138150          (Female)     1939   \n",
       "\n",
       "                                                   Medium  ...  \\\n",
       "0           Ink and cut-and-pasted painted pages on paper  ...   \n",
       "1                       Paint and colored pencil on print  ...   \n",
       "2       Graphite, pen, color pencil, ink, and gouache ...  ...   \n",
       "3       Photographic reproduction with colored synthet...  ...   \n",
       "4       Graphite, color pencil, ink, and gouache on tr...  ...   \n",
       "...                                                   ...  ...   \n",
       "138146                               Gelatin silver print  ...   \n",
       "138147  One from an illustrated book with four line bl...  ...   \n",
       "138148  One from an illustrated book with four line bl...  ...   \n",
       "138149  One from an illustrated book with four line bl...  ...   \n",
       "138150  One from an illustrated book with four line bl...  ...   \n",
       "\n",
       "                                             ThumbnailURL Circumference (cm)  \\\n",
       "0       http://www.moma.org/media/W1siZiIsIjU5NDA1Il0s...                NaN   \n",
       "1       http://www.moma.org/media/W1siZiIsIjk3Il0sWyJw...                NaN   \n",
       "2       http://www.moma.org/media/W1siZiIsIjk4Il0sWyJw...                NaN   \n",
       "3       http://www.moma.org/media/W1siZiIsIjEyNCJdLFsi...                NaN   \n",
       "4       http://www.moma.org/media/W1siZiIsIjEyNiJdLFsi...                NaN   \n",
       "...                                                   ...                ...   \n",
       "138146  http://www.moma.org/media/W1siZiIsIjQ5MjcyMiJd...                NaN   \n",
       "138147  http://www.moma.org/media/W1siZiIsIjQ4NTExNSJd...                NaN   \n",
       "138148  http://www.moma.org/media/W1siZiIsIjQ4NTExOCJd...                NaN   \n",
       "138149  http://www.moma.org/media/W1siZiIsIjQ4NTEyMCJd...                NaN   \n",
       "138150  http://www.moma.org/media/W1siZiIsIjQ4NTEyMSJd...                NaN   \n",
       "\n",
       "       Depth (cm) Diameter (cm) Height (cm) Length (cm) Weight (kg)  \\\n",
       "0             NaN           NaN   48.600000         NaN         NaN   \n",
       "1             NaN           NaN   40.640100         NaN         NaN   \n",
       "2             NaN           NaN   34.300000         NaN         NaN   \n",
       "3             NaN           NaN   50.800000         NaN         NaN   \n",
       "4             NaN           NaN   38.400000         NaN         NaN   \n",
       "...           ...           ...         ...         ...         ...   \n",
       "138146        NaN           NaN   10.795022         NaN         NaN   \n",
       "138147        NaN           NaN   13.500000         NaN         NaN   \n",
       "138148        NaN           NaN   13.500000         NaN         NaN   \n",
       "138149        NaN           NaN   11.000000         NaN         NaN   \n",
       "138150        NaN           NaN   13.500000         NaN         NaN   \n",
       "\n",
       "        Width (cm) Seat Height (cm) Duration (sec.)  \n",
       "0       168.900000              NaN             NaN  \n",
       "1        29.845100              NaN             NaN  \n",
       "2        31.800000              NaN             NaN  \n",
       "3        50.800000              NaN             NaN  \n",
       "4        19.100000              NaN             NaN  \n",
       "...            ...              ...             ...  \n",
       "138146   16.510033              NaN             NaN  \n",
       "138147   10.000000              NaN             NaN  \n",
       "138148   10.000000              NaN             NaN  \n",
       "138149   10.000000              NaN             NaN  \n",
       "138150   10.000000              NaN             NaN  \n",
       "\n",
       "[129930 rows x 29 columns]"
      ]
     },
     "execution_count": 400,
     "metadata": {},
     "output_type": "execute_result"
    }
   ],
   "source": [
    "#remove missing values for ANY of the columns :'TITLE' 'ARTIST' 'DATEACQUIRED'\n",
    "df_clean = df.dropna(subset=['Title', 'DateAcquired','Artist'])\n",
    "df_clean"
   ]
  },
  {
   "cell_type": "code",
   "execution_count": 401,
   "metadata": {},
   "outputs": [
    {
     "data": {
      "text/plain": [
       "3900"
      ]
     },
     "execution_count": 401,
     "metadata": {},
     "output_type": "execute_result"
    }
   ],
   "source": [
    "#filtering titles containing the substring 'Untitled' caase insensitive\n",
    "sub='untitled'\n",
    "df1 = df_clean[df_clean[\"Title\"].str.contains(sub,case=False, na=False, regex=True)]\n",
    "#Finding no. of unique values of titles \n",
    "len(df1[\"Title\"].unique())"
   ]
  },
  {
   "cell_type": "code",
   "execution_count": 402,
   "metadata": {},
   "outputs": [],
   "source": [
    "#function to filter values with 'Duration (sec.)' > 10 hours\n",
    "def filter_duration(df_clean, dur):\n",
    "    df_nonnull = df_clean[df_clean['Duration (sec.)'].notnull()]\n",
    "    dur_insec = dur*60.0*60.0\n",
    "    df = df_nonnull[(df_nonnull['Duration (sec.)'] > dur_insec)]\n",
    "    return df"
   ]
  },
  {
   "cell_type": "code",
   "execution_count": 403,
   "metadata": {},
   "outputs": [
    {
     "data": {
      "text/plain": [
       "0.013015184381778741"
      ]
     },
     "execution_count": 403,
     "metadata": {},
     "output_type": "execute_result"
    }
   ],
   "source": [
    "df10 = filter_duration(df_clean,10.0) # Duration > 10 hours\n",
    "df_total = filter_duration(df_clean,0.0) # Duraion > 0 hours\n",
    "prop = df10['Duration (sec.)'].count()/df_total['Duration (sec.)'].count()\n",
    "prop"
   ]
  },
  {
   "cell_type": "code",
   "execution_count": 404,
   "metadata": {},
   "outputs": [],
   "source": [
    "#calculate aspect ratio of paintings with > 0.0 width and  height\n",
    "def calculate_aspectratio(df_clean, width=0.0,height=0.0):\n",
    "    df_nonnull = df_clean[(df_clean['Height (cm)'].notnull()) &(df_clean['Width (cm)'].notnull())]\n",
    "    df_new = df_nonnull[(df_nonnull['Height (cm)'] > 0.0)&(df_nonnull['Width (cm)'] > 0.0)]\n",
    "    aspect_ratio =df_new['Width (cm)'] /df_new['Height (cm)']\n",
    "    df_new['Aspect_Ratio'] = aspect_ratio\n",
    "    return df_new"
   ]
  },
  {
   "cell_type": "code",
   "execution_count": 405,
   "metadata": {},
   "outputs": [
    {
     "name": "stderr",
     "output_type": "stream",
     "text": [
      "/Users/ssharm10/opt/anaconda3/lib/python3.7/site-packages/ipykernel_launcher.py:6: SettingWithCopyWarning: \n",
      "A value is trying to be set on a copy of a slice from a DataFrame.\n",
      "Try using .loc[row_indexer,col_indexer] = value instead\n",
      "\n",
      "See the caveats in the documentation: http://pandas.pydata.org/pandas-docs/stable/user_guide/indexing.html#returning-a-view-versus-a-copy\n",
      "  \n"
     ]
    }
   ],
   "source": [
    "df_new = calculate_aspectratio(df_clean) #add a new column 'Aspect Ratio' for non null positive values of width and height\n",
    "df_new['Aspect_Ratio']\n",
    "phi = 1.618 #golden ratio\n",
    "invphi = 1/phi"
   ]
  },
  {
   "cell_type": "code",
   "execution_count": 406,
   "metadata": {},
   "outputs": [],
   "source": [
    "def filter_aspectratio(df_new,phi):\n",
    "    df_filterphi = df_new[df_new['Aspect_Ratio'].between(phi- 0.01*phi, phi+ 0.01*phi, inclusive=True)]\n",
    "    return df_filter"
   ]
  },
  {
   "cell_type": "code",
   "execution_count": 407,
   "metadata": {},
   "outputs": [
    {
     "data": {
      "text/plain": [
       "0.008216015777658616"
      ]
     },
     "execution_count": 407,
     "metadata": {},
     "output_type": "execute_result"
    }
   ],
   "source": [
    "df_filter_phi = filter_aspectratio(df_new,phi)\n",
    "df_filter_invphi = filter_aspectratio(df_new,invphi)\n",
    "prop_ratios = (df_filter_phi['Aspect_Ratio'].count() + df_filter_invphi['Aspect_Ratio'].count())/df_new['Aspect_Ratio'].count()\n",
    "prop_ratios"
   ]
  },
  {
   "cell_type": "code",
   "execution_count": 408,
   "metadata": {},
   "outputs": [
    {
     "data": {
      "text/plain": [
       "0.23909027938120525"
      ]
     },
     "execution_count": 408,
     "metadata": {},
     "output_type": "execute_result"
    }
   ],
   "source": [
    "#Calculate prop of pieces belonging to photography department\n",
    "df_phot = df_clean[df_clean['Department'] == 'Photography']\n",
    "prop_photo = df_phot['Department'].count()/df_clean['Department'].count()\n",
    "prop_photo\n"
   ]
  },
  {
   "cell_type": "code",
   "execution_count": 409,
   "metadata": {},
   "outputs": [
    {
     "data": {
      "text/plain": [
       "9.190601900739177"
      ]
     },
     "execution_count": 409,
     "metadata": {},
     "output_type": "execute_result"
    }
   ],
   "source": [
    "#filter 'medium' values containing the string 'paper'\n",
    "df_paper = df_clean[df_clean[\"Medium\"].str.contains('paper', case=False, na=False, regex=True)]\n",
    "#filter 'medium' values containing the string 'canvas\n",
    "df_canvas = df_clean[df_clean[\"Medium\"].str.contains('canvas', case=False, na=False, regex=True)]\n",
    "ratio_paper_to_canvas = df_paper[\"Medium\"].count()/df_canvas[\"Medium\"].count()\n",
    "ratio_paper_to_canvas\n"
   ]
  },
  {
   "cell_type": "code",
   "execution_count": 410,
   "metadata": {},
   "outputs": [],
   "source": [
    "#extract a filtered dataframe containing for DateAcquired (in datetime format) between a given start date and end date (inclusive)\n",
    "#and return the dataframe with an added column 'Year'\n",
    "def filter_years(df_clean,start_date,end_date ):\n",
    "    df_filter = df_clean[(df_clean[\"DateAcquired\"]>= start_date) & (df_clean[\"DateAcquired\"]<= end_date)] #.unique()\n",
    "    year = df_filter['DateAcquired'].dt.year \n",
    "    df_filter['Year'] = year    \n",
    "    return df_filter"
   ]
  },
  {
   "cell_type": "code",
   "execution_count": 411,
   "metadata": {},
   "outputs": [
    {
     "name": "stderr",
     "output_type": "stream",
     "text": [
      "/Users/ssharm10/opt/anaconda3/lib/python3.7/site-packages/ipykernel_launcher.py:2: SettingWithCopyWarning: \n",
      "A value is trying to be set on a copy of a slice from a DataFrame.\n",
      "Try using .loc[row_indexer,col_indexer] = value instead\n",
      "\n",
      "See the caveats in the documentation: http://pandas.pydata.org/pandas-docs/stable/user_guide/indexing.html#returning-a-view-versus-a-copy\n",
      "  \n"
     ]
    }
   ],
   "source": [
    "#Convert column DateAcquired to Datetime format\n",
    "df_clean['DateAcquired']  = pd.to_datetime(df_clean['DateAcquired']) "
   ]
  },
  {
   "cell_type": "code",
   "execution_count": 412,
   "metadata": {},
   "outputs": [
    {
     "name": "stderr",
     "output_type": "stream",
     "text": [
      "/Users/ssharm10/opt/anaconda3/lib/python3.7/site-packages/ipykernel_launcher.py:6: SettingWithCopyWarning: \n",
      "A value is trying to be set on a copy of a slice from a DataFrame.\n",
      "Try using .loc[row_indexer,col_indexer] = value instead\n",
      "\n",
      "See the caveats in the documentation: http://pandas.pydata.org/pandas-docs/stable/user_guide/indexing.html#returning-a-view-versus-a-copy\n",
      "  \n"
     ]
    },
    {
     "data": {
      "text/plain": [
       "0.45219163197226664"
      ]
     },
     "execution_count": 412,
     "metadata": {},
     "output_type": "execute_result"
    },
    {
     "data": {
      "image/png": "[encoded data removed]",
      "text/plain": [
       "<Figure size 432x288 with 1 Axes>"
      ]
     },
     "metadata": {
      "needs_background": "light"
     },
     "output_type": "display_data"
    }
   ],
   "source": [
    "start_date = '1960-01-01'\n",
    "end_date = '1970-12-31'\n",
    "\n",
    "df_filter1 = filter_years(df_clean,start_date,end_date)\n",
    "\n",
    "Y = np.array(df_filter1.groupby('Year')['Artist'].nunique()) #group unique artists according to year theie records were acquired\n",
    "X = np.array(year.unique()).reshape((-1, 1))\n",
    "\n",
    "#Fit a linear regression model\n",
    "model = LinearRegression().fit(X, Y)\n",
    "plt.scatter(X,Y) #plot x and y\n",
    "Y_new = model.predict(X)\n",
    "plt.plot(X, Y_new) \n",
    "r2_score = model.score(X, Y)\n",
    "r2_score\n"
   ]
  },
  {
   "cell_type": "code",
   "execution_count": 413,
   "metadata": {},
   "outputs": [
    {
     "name": "stderr",
     "output_type": "stream",
     "text": [
      "/Users/ssharm10/opt/anaconda3/lib/python3.7/site-packages/ipykernel_launcher.py:6: SettingWithCopyWarning: \n",
      "A value is trying to be set on a copy of a slice from a DataFrame.\n",
      "Try using .loc[row_indexer,col_indexer] = value instead\n",
      "\n",
      "See the caveats in the documentation: http://pandas.pydata.org/pandas-docs/stable/user_guide/indexing.html#returning-a-view-versus-a-copy\n",
      "  \n"
     ]
    },
    {
     "data": {
      "text/plain": [
       "Year\n",
       "2001    1.212766\n",
       "2002   -0.843510\n",
       "2003   -0.156682\n",
       "2004    0.389800\n",
       "2005    4.281782\n",
       "2006   -0.586600\n",
       "2007    0.405762\n",
       "2008    1.783091\n",
       "2009   -0.764345\n",
       "2010    0.230469\n",
       "Name: AccessionNumber, dtype: float64"
      ]
     },
     "execution_count": 413,
     "metadata": {},
     "output_type": "execute_result"
    }
   ],
   "source": [
    "start_date = '2000-01-01'\n",
    "end_date = '2010-12-31'\n",
    "\n",
    "df_filter2 = filter_years(df_clean,start_date,end_date)\n",
    "pct_change_nartworks = df_filter2.groupby('Year')['AccessionNumber'].count().pct_change()\n",
    "pct_change_nartworks = pct_change_nartworks[1:]\n",
    "pct_change_nartworks\n"
   ]
  },
  {
   "cell_type": "code",
   "execution_count": 414,
   "metadata": {},
   "outputs": [],
   "source": [
    "#Function to create a Pandas dataframe from a beautiful soup object\n",
    "def create_df_from_soup(soup,rows):\n",
    "    all_rows = []\n",
    "\n",
    "    for row in rows:\n",
    "        row_td = row.find_all('td')\n",
    "        str_cells = str(row_td)\n",
    "        cleantext = BeautifulSoup(str_cells, \"lxml\").get_text()\n",
    "        all_rows.append(cleantext)\n",
    "\n",
    "    DF = pd.DataFrame(all_rows)  #convert into a pandas dataframe\n",
    "    return(DF)\n",
    "    "
   ]
  },
  {
   "cell_type": "code",
   "execution_count": 415,
   "metadata": {},
   "outputs": [
    {
     "data": {
      "text/html": [
       "<div>\n",
       "<style scoped>\n",
       "    .dataframe tbody tr th:only-of-type {\n",
       "        vertical-align: middle;\n",
       "    }\n",
       "\n",
       "    .dataframe tbody tr th {\n",
       "        vertical-align: top;\n",
       "    }\n",
       "\n",
       "    .dataframe thead th {\n",
       "        text-align: right;\n",
       "    }\n",
       "</style>\n",
       "<table border=\"1\" class=\"dataframe\">\n",
       "  <thead>\n",
       "    <tr style=\"text-align: right;\">\n",
       "      <th></th>\n",
       "      <th>0</th>\n",
       "      <th>1</th>\n",
       "      <th>2</th>\n",
       "    </tr>\n",
       "  </thead>\n",
       "  <tbody>\n",
       "    <tr>\n",
       "      <td>0</td>\n",
       "      <td>[]</td>\n",
       "      <td>None</td>\n",
       "      <td>None</td>\n",
       "    </tr>\n",
       "    <tr>\n",
       "      <td>1</td>\n",
       "      <td>[Jan 22</td>\n",
       "      <td>2021</td>\n",
       "      <td>3,841.47\\n\\n]</td>\n",
       "    </tr>\n",
       "    <tr>\n",
       "      <td>2</td>\n",
       "      <td>[Jan 1</td>\n",
       "      <td>2021</td>\n",
       "      <td>3,744.86\\n\\n]</td>\n",
       "    </tr>\n",
       "    <tr>\n",
       "      <td>3</td>\n",
       "      <td>[Jan 1</td>\n",
       "      <td>2020</td>\n",
       "      <td>3,278.20\\n\\n]</td>\n",
       "    </tr>\n",
       "    <tr>\n",
       "      <td>4</td>\n",
       "      <td>[Jan 1</td>\n",
       "      <td>2019</td>\n",
       "      <td>2,607.39\\n\\n]</td>\n",
       "    </tr>\n",
       "  </tbody>\n",
       "</table>\n",
       "</div>"
      ],
      "text/plain": [
       "         0      1               2\n",
       "0       []   None            None\n",
       "1  [Jan 22   2021   3,841.47\\n\\n]\n",
       "2   [Jan 1   2021   3,744.86\\n\\n]\n",
       "3   [Jan 1   2020   3,278.20\\n\\n]\n",
       "4   [Jan 1   2019   2,607.39\\n\\n]"
      ]
     },
     "execution_count": 415,
     "metadata": {},
     "output_type": "execute_result"
    }
   ],
   "source": [
    "#Scrape data from the link provided  \n",
    "url = \"https://www.multpl.com/s-p-500-historical-prices/table/by-year\"\n",
    "html = urlopen(url)\n",
    "\n",
    "soup = BeautifulSoup(html, 'lxml') #create a beautiful soup object\n",
    "rows = soup.find_all('tr') #store all rows within the table\n",
    "\n",
    "DF = create_df_from_soup(soup,rows)\n",
    "\n",
    "df_1 = DF[0].str.split(',',2,expand=True)\n",
    "df_1.head(5)"
   ]
  },
  {
   "cell_type": "code",
   "execution_count": 416,
   "metadata": {},
   "outputs": [
    {
     "data": {
      "text/plain": [
       "Index(['Date', 'Year', 'Price'], dtype='object')"
      ]
     },
     "execution_count": 416,
     "metadata": {},
     "output_type": "execute_result"
    }
   ],
   "source": [
    "#Process the dataframe to extract meaningful column values\n",
    "\n",
    "df_1[0] = df_1[0].str.strip('[')\n",
    "df_1[2] = df_1[2].str.strip('\\n\\n]')\n",
    "df_1 = df_1.replace(',','', regex=True)\n",
    "df_1 = df_1[1:].rename(columns={0:'Date', 1:'Year', 2:'Price'}) #Rename the first row for headers\n",
    "df_1.columns"
   ]
  },
  {
   "cell_type": "code",
   "execution_count": 417,
   "metadata": {},
   "outputs": [
    {
     "data": {
      "text/plain": [
       "22   -0.063104\n",
       "21   -0.146313\n",
       "20   -0.214320\n",
       "19    0.264199\n",
       "18    0.043169\n",
       "17    0.082376\n",
       "16    0.113730\n",
       "15   -0.031878\n",
       "14   -0.372204\n",
       "13    0.298066\n",
       "Name: Price, dtype: float64"
      ]
     },
     "execution_count": 417,
     "metadata": {},
     "output_type": "execute_result"
    }
   ],
   "source": [
    "#Now filter rows from the data frame that contain date as Jan 1 and year is in between 2000 and 2010 (inclusive)\n",
    "df_2 = df_1[(df_1['Date'] == 'Jan 1') & (df_1['Year'].astype(float) >=2000) & (df_1['Year'].astype(float) <=2010)].sort_values(by='Year',ascending=True)\n",
    "\n",
    "#Calculate percent change in january closing prices\n",
    "pct_change_sandp = df_2['Price'].astype(float).pct_change()\n",
    "pct_change_sandp = pct_change_sandp[1:] \n",
    "pct_change_sandp"
   ]
  },
  {
   "cell_type": "code",
   "execution_count": 418,
   "metadata": {},
   "outputs": [
    {
     "data": {
      "text/plain": [
       "0.23400567532987918"
      ]
     },
     "execution_count": 418,
     "metadata": {},
     "output_type": "execute_result"
    }
   ],
   "source": [
    "#Calculate Pearson's Correlation coefficient between the percent change in no of artworks acquired vs the percent change in average January closing S&P 500 prices\n",
    "corr_coeff, _ = pearsonr(pct_change_nartworks,pct_change_sandp)\n",
    "corr_coeff"
   ]
  },
  {
   "cell_type": "code",
   "execution_count": null,
   "metadata": {},
   "outputs": [],
   "source": []
  }
 ],
 "metadata": {
  "kernelspec": {
   "display_name": "Python 3",
   "language": "python",
   "name": "python3"
  },
  "language_info": {
   "codemirror_mode": {
    "name": "ipython",
    "version": 3
   },
   "file_extension": ".py",
   "mimetype": "text/x-python",
   "name": "python",
   "nbconvert_exporter": "python",
   "pygments_lexer": "ipython3",
   "version": "3.7.4"
  }
 },
 "nbformat": 4,
 "nbformat_minor": 4
}
